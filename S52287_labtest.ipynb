{
 "cells": [
  {
   "cell_type": "code",
   "execution_count": 26,
   "metadata": {},
   "outputs": [
    {
     "name": "stdout",
     "output_type": "stream",
     "text": [
      "Enter a number in decimal: 1\n",
      "There are 1 '1' in 00000001\n"
     ]
    }
   ],
   "source": [
    "def deciToBin(n):\n",
    "    if(n != 0):\n",
    "        return bin(n)[2:].zfill(8)\n",
    "    else:\n",
    "        print(\"Enter a number please!\")\n",
    "\n",
    "userInput = input(\"Enter a number in decimal: \")\n",
    "i = deciToBin(int(userInput))\n",
    "print(\"There are \"+ str(i.count('1')) + \" '1' in \" + i)"
   ]
  },
  {
   "cell_type": "code",
   "execution_count": 63,
   "metadata": {},
   "outputs": [
    {
     "name": "stdout",
     "output_type": "stream",
     "text": [
      "There are 4 words in sentences.\n"
     ]
    }
   ],
   "source": [
    "string = \"I have Python exam\"\n",
    "\n",
    "def count():\n",
    "    return len(string.split(' '))\n",
    "print(\"There are \"+str(count())+\" words in sentences.\")"
   ]
  },
  {
   "cell_type": "code",
   "execution_count": 71,
   "metadata": {},
   "outputs": [
    {
     "name": "stdout",
     "output_type": "stream",
     "text": [
      "There are 6 words in the string.\n",
      "The most frequent character is a which appeared 4 times\n"
     ]
    }
   ],
   "source": [
    "class MyString:\n",
    "    def __init__(self, myString):\n",
    "        self.__myString = myString\n",
    "\n",
    "    def countWord(self):\n",
    "         count = len(self.__myString.split())\n",
    "         return count\n",
    "\n",
    "    def findMostFrequentChar(self):        \n",
    "        d = {}\n",
    "\n",
    "        for ch in self.__myString.replace(' ', '').lower():\n",
    "            if ch in d:\n",
    "                d[ch] += 1\n",
    "            else:\n",
    "                d[ch] = 1\n",
    "        most_frequent = max(d, key=d.get)\n",
    "        return most_frequent, d[most_frequent]\n",
    "\n",
    "\n",
    "def main():    \n",
    "    aString = MyString(\"an apple is not a tomato\")\n",
    "    print(\"There are\", aString.countWord(), \"words in the string.\")\n",
    "\n",
    "    letter, count = aString.findMostFrequentChar()\n",
    "    print(\"The most frequent character is\", letter, \"which appeared\", count, \"times\")\n",
    "\n",
    "main()"
   ]
  },
  {
   "cell_type": "code",
   "execution_count": 88,
   "metadata": {
    "scrolled": false
   },
   "outputs": [
    {
     "name": "stdout",
     "output_type": "stream",
     "text": [
      "Arguments are:20\n",
      "Arguments are:7\n"
     ]
    }
   ],
   "source": [
    "def multiply_by_two(x):\n",
    "    return x*2\n",
    "\n",
    "def add_number(a,b):\n",
    "    return a+b\n",
    "def print_arguments(args):\n",
    "    print (f'Arguments are:{args}')\n",
    "\n",
    "augmented_multiply_by_two = print_arguments(multiply_by_two(10))\n",
    "x=augmented_multiply_by_two\n",
    "\n",
    "augmented_add_number = print_arguments(add_number(3,4))\n",
    "x=augmented_add_number\n"
   ]
  },
  {
   "cell_type": "code",
   "execution_count": 94,
   "metadata": {},
   "outputs": [
    {
     "name": "stdout",
     "output_type": "stream",
     "text": [
      "Arguments are:60\n"
     ]
    }
   ],
   "source": [
    "def multiply_by_three(x):\n",
    "    return x*3\n",
    "\n",
    "def multiply_output(ambt):\n",
    "    return 2*ambt\n",
    "\n",
    "def print_arguments(args):\n",
    "    print (f'Arguments are:{args}')\n",
    "    \n",
    "augmented_multiply_by_three = (multiply_by_three(10))\n",
    "x=augmented_multiply_by_three\n",
    "augmented_output=print_arguments(multiply_output(x))\n",
    "ambt=augmented_output"
   ]
  },
  {
   "cell_type": "code",
   "execution_count": 96,
   "metadata": {},
   "outputs": [
    {
     "name": "stdout",
     "output_type": "stream",
     "text": [
      "Arguments are:14\n"
     ]
    }
   ],
   "source": [
    "def add_numbers(a, b):\n",
    "    return a+b\n",
    "\n",
    "def multiply_output(addnum):\n",
    "    return 2*addnum\n",
    "\n",
    "def print_arguments(args):\n",
    "    print (f'Arguments are:{args}')\n",
    "    \n",
    "augmented_add_number = (add_numbers(3,4))\n",
    "x=augmented_add_number\n",
    "augmented_output=print_arguments(multiply_output(x))\n",
    "ambt=augmented_output"
   ]
  },
  {
   "cell_type": "code",
   "execution_count": null,
   "metadata": {},
   "outputs": [],
   "source": []
  }
 ],
 "metadata": {
  "kernelspec": {
   "display_name": "Python 3",
   "language": "python",
   "name": "python3"
  },
  "language_info": {
   "codemirror_mode": {
    "name": "ipython",
    "version": 3
   },
   "file_extension": ".py",
   "mimetype": "text/x-python",
   "name": "python",
   "nbconvert_exporter": "python",
   "pygments_lexer": "ipython3",
   "version": "3.8.5"
  }
 },
 "nbformat": 4,
 "nbformat_minor": 4
}
